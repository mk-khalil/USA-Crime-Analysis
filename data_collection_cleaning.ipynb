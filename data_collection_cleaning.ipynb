{
  "nbformat": 4,
  "nbformat_minor": 0,
  "metadata": {
    "colab": {
      "provenance": []
    },
    "kernelspec": {
      "name": "python3",
      "display_name": "Python 3"
    },
    "language_info": {
      "name": "python"
    }
  },
  "cells": [
    {
      "cell_type": "markdown",
      "source": [
        "Importing Libraries and Mounting Gdrive to store collected and processed datasets"
      ],
      "metadata": {
        "id": "yGtJffNDGmh2"
      }
    },
    {
      "cell_type": "code",
      "source": [
        "import requests\n",
        "import requests_oauthlib\n",
        "import socket\n",
        "import sys\n",
        "import json\n",
        "from socket import SHUT_RDWR\n",
        "import shutil\n",
        "import threading\n",
        "import pandas as pd\n",
        "import numpy as np\n",
        "from concurrent.futures import ThreadPoolExecutor\n",
        "import time\n",
        "import matplotlib.pyplot as plt\n",
        "import seaborn as sns\n",
        "from sklearn.preprocessing import OneHotEncoder"
      ],
      "metadata": {
        "id": "OccqTnfFG0Kb"
      },
      "execution_count": 2,
      "outputs": []
    },
    {
      "cell_type": "code",
      "source": [
        "# mounting google drive\n",
        "from google.colab import drive\n",
        "drive.mount('drive')"
      ],
      "metadata": {
        "colab": {
          "base_uri": "https://localhost:8080/"
        },
        "id": "VJxg6VJAn1eN",
        "outputId": "348479f2-6170-497a-b811-262a987fc2bc"
      },
      "execution_count": 1,
      "outputs": [
        {
          "output_type": "stream",
          "name": "stdout",
          "text": [
            "Mounted at drive\n"
          ]
        }
      ]
    },
    {
      "cell_type": "markdown",
      "source": [
        "# Data Collection"
      ],
      "metadata": {
        "id": "AD2X20y8HZxR"
      }
    },
    {
      "cell_type": "markdown",
      "metadata": {
        "id": "oQvByza9-2gR"
      },
      "source": [
        "## NCVS"
      ]
    },
    {
      "cell_type": "markdown",
      "metadata": {
        "id": "jbpxcs5pKe6A"
      },
      "source": [
        "function for retrieving NCVS personal victimization and personal population data"
      ]
    },
    {
      "cell_type": "code",
      "execution_count": 3,
      "metadata": {
        "id": "XxpE63A51b-y"
      },
      "outputs": [],
      "source": [
        "def NCVS_data():\n",
        "    q1_url = 'https://data.ojp.usdoj.gov/resource/gcuy-rt5g.json?$limit=1000000'\n",
        "    q2_url = 'https://data.ojp.usdoj.gov/resource/r4j4-fdwx.json?$limit=1000000'   \n",
        "    response1 = requests.get(q1_url)\n",
        "    response2 = requests.get(q2_url)\n",
        "    pcv = response1.json()  #personal victimization\n",
        "    pp = response2.json()   #personal population\n",
        "    print(q1_url, response1)\n",
        "    print(q2_url, response2)\n",
        "    return pcv,pp"
      ]
    },
    {
      "cell_type": "code",
      "execution_count": 4,
      "metadata": {
        "id": "ku_gUhwj10mh",
        "colab": {
          "base_uri": "https://localhost:8080/"
        },
        "outputId": "4a74303b-7e30-479e-f9ca-23fc8d2f71d7"
      },
      "outputs": [
        {
          "output_type": "stream",
          "name": "stdout",
          "text": [
            "https://data.ojp.usdoj.gov/resource/gcuy-rt5g.json?$limit=1000000 <Response [200]>\n",
            "https://data.ojp.usdoj.gov/resource/r4j4-fdwx.json?$limit=1000000 <Response [200]>\n"
          ]
        }
      ],
      "source": [
        "pcv,pp = NCVS_data()"
      ]
    },
    {
      "cell_type": "markdown",
      "metadata": {
        "id": "V-wuP5DhKzH4"
      },
      "source": [
        "Saving Personal Victimization data to JSON in google drive"
      ]
    },
    {
      "cell_type": "code",
      "execution_count": 5,
      "metadata": {
        "id": "iDkTn-AEtxp6"
      },
      "outputs": [],
      "source": [
        "with open(\"ncvs_pcv.json\", \"w\") as outfile:\n",
        "    json.dump(pcv, outfile)"
      ]
    },
    {
      "cell_type": "code",
      "execution_count": 9,
      "metadata": {
        "id": "NwLb05auu1BI",
        "colab": {
          "base_uri": "https://localhost:8080/",
          "height": 35
        },
        "outputId": "048d99dd-e010-4633-e863-b51a85f05703"
      },
      "outputs": [
        {
          "output_type": "execute_result",
          "data": {
            "text/plain": [
              "'/content/drive/MyDrive/crime_stats_project/ncvs/ncvs_pcv.json'"
            ],
            "application/vnd.google.colaboratory.intrinsic+json": {
              "type": "string"
            }
          },
          "metadata": {},
          "execution_count": 9
        }
      ],
      "source": [
        "colab_link = \"/content/ncvs_pcv.json\"\n",
        "gdrive_link = \"/content/drive/MyDrive/crime_stats_project/ncvs/ncvs_pcv.json\"\n",
        "shutil.copy(colab_link, gdrive_link)"
      ]
    },
    {
      "cell_type": "markdown",
      "metadata": {
        "id": "cNcTzaisK98m"
      },
      "source": [
        "Saving Personal Population data to JSON in google drive"
      ]
    },
    {
      "cell_type": "code",
      "execution_count": 11,
      "metadata": {
        "id": "W76u_teduClX"
      },
      "outputs": [],
      "source": [
        "with open(\"ncvs_pp.json\", \"w\") as outfile:\n",
        "    json.dump(pp, outfile)"
      ]
    },
    {
      "cell_type": "code",
      "execution_count": 12,
      "metadata": {
        "id": "zGEBQmmZve4x",
        "colab": {
          "base_uri": "https://localhost:8080/",
          "height": 35
        },
        "outputId": "5a7b3091-b05e-478f-cb08-3185bc6319bd"
      },
      "outputs": [
        {
          "output_type": "execute_result",
          "data": {
            "text/plain": [
              "'/content/drive/MyDrive/crime_stats_project/ncvs/ncvs_pp.json'"
            ],
            "application/vnd.google.colaboratory.intrinsic+json": {
              "type": "string"
            }
          },
          "metadata": {},
          "execution_count": 12
        }
      ],
      "source": [
        "colab_link = \"/content/ncvs_pp.json\"\n",
        "gdrive_link = \"/content/drive/MyDrive/crime_stats_project/ncvs/ncvs_pp.json\"\n",
        "shutil.copy(colab_link, gdrive_link)"
      ]
    },
    {
      "cell_type": "markdown",
      "source": [
        "## NIBRS Reported offense count"
      ],
      "metadata": {
        "id": "s61uXbdyLd_1"
      }
    },
    {
      "cell_type": "code",
      "source": [
        "# requesting the API for state names and abbreviation\n",
        "url_abbr = \"https://api.usa.gov/crime/fbi/sapi/api/agencies?API_KEY=pX3LYY2A6ahE5xVPUFqT4j5zq8jy7BflrVcOHJwx\"\n",
        "abbr_resp = requests.get(url_abbr)\n",
        "api_dict = abbr_resp.json()\n",
        "\n",
        "# looping over all states to get their corresponding abbreviation strings\n",
        "name_abbr_dict = []\n",
        "abbr_list = []\n",
        "for state_ind in range(len(api_dict)):\n",
        "  state_abbr_dict = {}\n",
        "  state_abbr = list(api_dict.keys())[state_ind]\n",
        "  state = list(api_dict[state_abbr].values())[0]\n",
        "  state_name = state['state_name']\n",
        "  state_abbr_dict['state_name'] = state_name\n",
        "  state_abbr_dict['state_abbr'] = state_abbr\n",
        "  # a list of dictionaries for all states and their abbreviations\n",
        "  name_abbr_dict.append(state_abbr_dict)\n",
        "  # a list of state abbreviations\n",
        "  abbr_list.append(state_abbr)"
      ],
      "metadata": {
        "id": "jzz-zvJ4H7OT"
      },
      "execution_count": 13,
      "outputs": []
    },
    {
      "cell_type": "code",
      "source": [
        "# a list of all offeneses taken from the cde API documentation\n",
        "offense_list = ['aggravated-assault','all-other-larceny','all-other-offenses','animal-cruelty','arson','assisting-or-promoting-prostitution',\\\n",
        "                'bad-checks','betting','bribery','burglary-breaking-and-entering','counterfeiting-forgery','credit-card-automated-teller-machine-fraud',\\\n",
        "                'destruction-damage-vandalism-of-property','driving-under-the-influence','drug-equipment-violations','drug-violations','drunkenness',\\\n",
        "                'embezzlement','extortion-blackmail','false-pretenses-swindle-confidence-game','fondling','gambling-equipment-violation',\\\n",
        "                'hacking-computer-invasion','human-trafficking-commerical-sex-acts','human-trafficking-commerical-involuntary-servitude','identity-theft',\\\n",
        "                'impersonation','incest','intimidation','justifiable-homicide','kidnapping-abduction','motor-vehicle-theft','murder-and-nonnegligent-manslaughter',\\\n",
        "                'negligent-manslaughter','operating-promoting-assiting-gambling','curfew-loitering-vagrancy-violations','peeping-tom','pocket-picking',\\\n",
        "                'pornography-obscence-material','prostitution','purchasing-prostitution','purse-snatching','rape','robbery','sexual-assult-with-an-object',\\\n",
        "                'sex-offenses-non-forcible','shoplifting','simple-assault','sodomy','sports-tampering','statutory-rape','stolen-property-offenses',\\\n",
        "                'theft-from-building','theft-from-coin-operated-machine-or-device','theft-from-motor-vehicle','theft-of-motor-vehicle-parts-or-accessories',\\\n",
        "                'theft-from-motor-vehicle','weapon-law-violation','welfare-fraud','wire-fraud','not-specified','liquor-law-violations']\n",
        "\n",
        "# a list of offense categories based on cde API documentation\n",
        "offenses_collected = ['crime-against-person', 'crime-against-property','crime-against-society','assault-offenses','homicide-offenses',\\\n",
        "                      'human-trafficking-offenses','sex-offenses','sex-offenses-non-forcible','fraud-offenses','larceny-theft-offenses',\\\n",
        "                      'drugs-narcotic-offenses','gambling-offenses','prostitution-offenses','all-offenses']\n",
        "\n",
        "# a manually curated list of dictionaries for grouping single offenses based on the NIBRS\n",
        "grouped_offense_list = [{'offense_group': 'animal-cruelty', 'single_offenses': ['animal-cruelty']},\n",
        "                        {'offense_group': 'arson', 'single_offenses': ['arson']},\n",
        "                        {'offense_group': 'assault-offenses', 'single_offenses': ['aggravated-assault','simple-assault','intimidation']},\n",
        "                        {'offense_group': 'bribery', 'single_offenses': ['bribery']},\n",
        "                        {'offense_group': 'burglary-breaking-and-entering' , 'single_offenses': ['burglary-breaking-and-entering']},\n",
        "                        {'offense_group': 'embezzlement', 'single_offenses': ['embezzlement']},\n",
        "                        {'offense_group': 'extortion-blackmail', 'single_offenses': ['extortion-blackmail']},\n",
        "                        {'offense_group': 'fraud-offenses', 'single_offenses': ['false-pretenses-swindle-confidence-game','credit-card-automated-teller-machine-fraud','impersonation','welfare-fraud','wire-fraud','identity-theft','hacking-computer-invasion']},\n",
        "                        {'offense_group': 'gambling-offenses', 'single_offenses': ['betting','operating-promoting-assiting-gambling','gambling-equipment-violation','sports-tampering']},\n",
        "                        {'offense_group': 'homicide-offenses', 'single_offenses': ['murder-and-nonnegligent-manslaughter','negligent-manslaughter','justifiable-homicide']},\n",
        "                        {'offense_group': 'human-trafficking', 'single_offenses': ['human-trafficking-commerical-sex-acts','human-trafficking-commerical-involuntary-servitude']},\n",
        "                        {'offense_group': 'kidnapping-abduction', 'single_offenses': ['kidnapping-abduction']},\n",
        "                        {'offense_group': 'larceny-theft-offenses', 'single_offenses': ['pocket-picking','purse-snatching','shoplifting','theft-from-building','theft-from-coin-operated-machine-or-device','theft-from-motor-vehicle','theft-of-motor-vehicle-parts-or-accessories','all-other-larceny' ]},\n",
        "                        {'offense_group': 'motor-vehicle-theft', 'single_offenses': ['motor-vehicle-theft']},\n",
        "                        {'offense_group': 'pornography-obscence-material', 'single_offenses': ['pornography-obscence-material']},\n",
        "                        {'offense_group': 'prostitution-offenses', 'single_offenses': ['prostitution','assisting-or-promoting-prostitution','purchasing-prostitution']},\n",
        "                        {'offense_group': 'robbery', 'single_offenses': ['robbery']},\n",
        "                        {'offense_group': 'destruction-damage-vandalism-of-property' , 'single_offenses': ['destruction-damage-vandalism-of-property']},\n",
        "                        {'offense_group': 'counterfeiting-forgery', 'single_offenses': ['counterfeiting-forgery']},\n",
        "                        {'offense_group': 'sex-offenses', 'single_offenses': ['rape','sexual-assult-with-an-object','sodomy','statutory-rape','fondling','incest','sex-offenses-non-forcible']},\n",
        "                        {'offense_group': 'stolen-property-offenses', 'single_offenses': ['stolen-property-offenses']},\n",
        "                        {'offense_group': 'weapon-law-violation', 'single_offenses': ['weapon-law-violation']},\n",
        "                        {'offense_group': 'drug-narcotic-offenses', 'single_offenses': ['drug-equipment-violations','drug-violations']},\n",
        "                        {'offense_group': 'others', 'single_offenses': ['all-other-offenses','bad-checks','driving-under-the-influence','drunkenness','curfew-loitering-vagrancy-violations','peeping-tom','not-specified','liquor-law-violations']}]  \n",
        "print('Number of offense categories = ', len(grouped_offense_list))"
      ],
      "metadata": {
        "colab": {
          "base_uri": "https://localhost:8080/"
        },
        "id": "3hSiPWdpLrKs",
        "outputId": "6c0e0f6c-ec45-45b0-a85d-41a6cb82facd"
      },
      "execution_count": 15,
      "outputs": [
        {
          "output_type": "stream",
          "name": "stdout",
          "text": [
            "Number of offense categories =  24\n"
          ]
        }
      ]
    },
    {
      "cell_type": "code",
      "source": [
        "# collecting the NIBRS crime data using multithreading operations\n",
        "\n",
        "# a list of tuples to group urls and corresponding arugments\n",
        "api_args = []\n",
        "# a list of dictionaries to store the results of the API calls\n",
        "offense_count_list = []\n",
        "\n",
        "# grouping api urls along with offense group and state name and abbr into a list of tuples\n",
        "for grouped_offenses in grouped_offense_list:\n",
        "  offense_group = grouped_offenses['offense_group']\n",
        "  for offense in grouped_offenses['single_offenses']:\n",
        "      for state_info in name_abbr_dict:\n",
        "        state_name = state_info['state_name']\n",
        "        state_abbr = state_info['state_abbr']\n",
        "        url = \"https://api.usa.gov/crime/fbi/sapi/api/data/nibrs/\" + offense + \"/offender/states/\" + state_abbr + \"/COUNT?API_KEY=pX3LYY2A6ahE5xVPUFqT4j5zq8jy7BflrVcOHJwx\" \n",
        "        args = (url, offense_group, state_name, state_abbr)\n",
        "        api_args.append(args)\n",
        "\n",
        "\n",
        "# an API call function to be processed in parallel with multithreaded operations\n",
        "# the result of each API call is a list of dictionaries which is appeneded to the main offense count list\n",
        "# offenses under the same group are assigned the offense group\n",
        "def call_nibrs_api(api_args):\n",
        "  time.sleep(1)\n",
        "  resp = requests.get(api_args[0])\n",
        "  resp_dict = resp.json()['results']\n",
        "  for d in resp_dict:\n",
        "    d['offense'] = api_args[1]\n",
        "    d['state_name'] = api_args[2]\n",
        "    d['state_abbr'] = api_args[3]\n",
        "  offense_count_list.extend(resp_dict)\n",
        "  return \n",
        "\n",
        "# define a multithreading operation with 12 workers\n",
        "executor = ThreadPoolExecutor(12)\n",
        "futures = []\n",
        "\n",
        "# loop through the list of urls and their relative arguments and submit api calls in parallel\n",
        "for api_call in api_args:\n",
        "  future = executor.submit(call_nibrs_api, (api_call))\n",
        "  futures.append(future)\n",
        "\n"
      ],
      "metadata": {
        "id": "hy94pmmaX5Oy"
      },
      "execution_count": 16,
      "outputs": []
    },
    {
      "cell_type": "code",
      "source": [
        "print('Number of records = ', len(offense_count_list))"
      ],
      "metadata": {
        "colab": {
          "base_uri": "https://localhost:8080/"
        },
        "id": "GVUP-aTYbn0n",
        "outputId": "3f4e0d5d-b9e4-4c72-9d7d-1f62241141f8"
      },
      "execution_count": 24,
      "outputs": [
        {
          "output_type": "stream",
          "name": "stdout",
          "text": [
            "Number of records =  39650\n"
          ]
        }
      ]
    },
    {
      "cell_type": "markdown",
      "metadata": {
        "id": "ttKZr7mG_CpT"
      },
      "source": [
        "##Recidivism data for the state of Georgia"
      ]
    },
    {
      "cell_type": "markdown",
      "metadata": {
        "id": "b-Xh9HVELFq4"
      },
      "source": [
        "Function for retrieving NJI data"
      ]
    },
    {
      "cell_type": "code",
      "execution_count": 25,
      "metadata": {
        "id": "mu2W-RXQ-J1W"
      },
      "outputs": [],
      "source": [
        "def NIJ_data():\n",
        "    q1_url = 'https://data.ojp.usdoj.gov/resource/ynf5-u8nk.json?$limit=1000000'\n",
        "    response1 = requests.get(q1_url)\n",
        "    data1 = response1.json()\n",
        "    print(q1_url, response1)\n",
        "    return data1"
      ]
    },
    {
      "cell_type": "code",
      "execution_count": 26,
      "metadata": {
        "id": "r_1Kz2Ek-MBm",
        "colab": {
          "base_uri": "https://localhost:8080/"
        },
        "outputId": "78fa297d-daee-49be-b5fc-b2399bb9fd6a"
      },
      "outputs": [
        {
          "output_type": "stream",
          "name": "stdout",
          "text": [
            "https://data.ojp.usdoj.gov/resource/ynf5-u8nk.json?$limit=1000000 <Response [200]>\n"
          ]
        }
      ],
      "source": [
        "sn = NIJ_data()"
      ]
    },
    {
      "cell_type": "markdown",
      "metadata": {
        "id": "kmjRq924LecG"
      },
      "source": [
        "Saving NJI data to JSON in google drive"
      ]
    },
    {
      "cell_type": "code",
      "execution_count": 27,
      "metadata": {
        "id": "QELLZHCHLecH"
      },
      "outputs": [],
      "source": [
        "with open(\"nji.json\", \"w\") as outfile:\n",
        "    json.dump(sn, outfile)"
      ]
    },
    {
      "cell_type": "code",
      "execution_count": 28,
      "metadata": {
        "id": "z9_TTELlLecI",
        "colab": {
          "base_uri": "https://localhost:8080/",
          "height": 35
        },
        "outputId": "8414a9da-fce7-4764-b141-1994271ceb68"
      },
      "outputs": [
        {
          "output_type": "execute_result",
          "data": {
            "text/plain": [
              "'/content/drive/MyDrive/crime_stats_project/nji/nji_georgia.json'"
            ],
            "application/vnd.google.colaboratory.intrinsic+json": {
              "type": "string"
            }
          },
          "metadata": {},
          "execution_count": 28
        }
      ],
      "source": [
        "colab_link = \"/content/nji.json\"\n",
        "gdrive_link = \"/content/drive/MyDrive/crime_stats_project/nji/nji_georgia.json\"\n",
        "shutil.copy(colab_link, gdrive_link)"
      ]
    },
    {
      "cell_type": "markdown",
      "source": [
        "## Firearm laws per state data"
      ],
      "metadata": {
        "id": "nqw6xRi3dsvU"
      }
    },
    {
      "cell_type": "code",
      "source": [
        "# loading the data from Gdrive\n",
        "df_firearm = pd.read_excel('drive/MyDrive/crime_stats_project/firearm/DATABASE_0.xlsx')\n",
        "df_firearm.head()"
      ],
      "metadata": {
        "colab": {
          "base_uri": "https://localhost:8080/",
          "height": 300
        },
        "id": "qvIF9E4ld9X5",
        "outputId": "8dbe72c9-0838-445b-9b6b-4225ddba98e7"
      },
      "execution_count": 29,
      "outputs": [
        {
          "output_type": "execute_result",
          "data": {
            "text/plain": [
              "     state  year  felony  invcommitment  invoutpatient  danger  \\\n",
              "0  Alabama  1991       0              0              0       0   \n",
              "1  Alabama  1992       0              0              0       0   \n",
              "2  Alabama  1993       0              0              0       0   \n",
              "3  Alabama  1994       0              0              0       0   \n",
              "4  Alabama  1995       0              0              0       0   \n",
              "\n",
              "   drugmisdemeanor  alctreatment  alcoholism  relinquishment  ...  \\\n",
              "0                0             0           1               0  ...   \n",
              "1                0             0           1               0  ...   \n",
              "2                0             0           1               0  ...   \n",
              "3                0             0           1               0  ...   \n",
              "4                0             0           1               0  ...   \n",
              "\n",
              "   expartedating  dvrosurrender  dvrosurrendernoconditions  \\\n",
              "0              0              0                          0   \n",
              "1              0              0                          0   \n",
              "2              0              0                          0   \n",
              "3              0              0                          0   \n",
              "4              0              0                          0   \n",
              "\n",
              "   dvrosurrenderdating  expartesurrender  expartesurrendernoconditions  \\\n",
              "0                    0                 0                             0   \n",
              "1                    0                 0                             0   \n",
              "2                    0                 0                             0   \n",
              "3                    0                 0                             0   \n",
              "4                    0                 0                             0   \n",
              "\n",
              "   expartesurrenderdating  dvroremoval  stalking  lawtotal  \n",
              "0                       0            0         0        15  \n",
              "1                       0            0         1        16  \n",
              "2                       0            0         1        16  \n",
              "3                       0            0         1        16  \n",
              "4                       0            0         1        16  \n",
              "\n",
              "[5 rows x 137 columns]"
            ],
            "text/html": [
              "\n",
              "  <div id=\"df-3cfd8457-7d0f-4081-bba4-f95a8a0f544a\">\n",
              "    <div class=\"colab-df-container\">\n",
              "      <div>\n",
              "<style scoped>\n",
              "    .dataframe tbody tr th:only-of-type {\n",
              "        vertical-align: middle;\n",
              "    }\n",
              "\n",
              "    .dataframe tbody tr th {\n",
              "        vertical-align: top;\n",
              "    }\n",
              "\n",
              "    .dataframe thead th {\n",
              "        text-align: right;\n",
              "    }\n",
              "</style>\n",
              "<table border=\"1\" class=\"dataframe\">\n",
              "  <thead>\n",
              "    <tr style=\"text-align: right;\">\n",
              "      <th></th>\n",
              "      <th>state</th>\n",
              "      <th>year</th>\n",
              "      <th>felony</th>\n",
              "      <th>invcommitment</th>\n",
              "      <th>invoutpatient</th>\n",
              "      <th>danger</th>\n",
              "      <th>drugmisdemeanor</th>\n",
              "      <th>alctreatment</th>\n",
              "      <th>alcoholism</th>\n",
              "      <th>relinquishment</th>\n",
              "      <th>...</th>\n",
              "      <th>expartedating</th>\n",
              "      <th>dvrosurrender</th>\n",
              "      <th>dvrosurrendernoconditions</th>\n",
              "      <th>dvrosurrenderdating</th>\n",
              "      <th>expartesurrender</th>\n",
              "      <th>expartesurrendernoconditions</th>\n",
              "      <th>expartesurrenderdating</th>\n",
              "      <th>dvroremoval</th>\n",
              "      <th>stalking</th>\n",
              "      <th>lawtotal</th>\n",
              "    </tr>\n",
              "  </thead>\n",
              "  <tbody>\n",
              "    <tr>\n",
              "      <th>0</th>\n",
              "      <td>Alabama</td>\n",
              "      <td>1991</td>\n",
              "      <td>0</td>\n",
              "      <td>0</td>\n",
              "      <td>0</td>\n",
              "      <td>0</td>\n",
              "      <td>0</td>\n",
              "      <td>0</td>\n",
              "      <td>1</td>\n",
              "      <td>0</td>\n",
              "      <td>...</td>\n",
              "      <td>0</td>\n",
              "      <td>0</td>\n",
              "      <td>0</td>\n",
              "      <td>0</td>\n",
              "      <td>0</td>\n",
              "      <td>0</td>\n",
              "      <td>0</td>\n",
              "      <td>0</td>\n",
              "      <td>0</td>\n",
              "      <td>15</td>\n",
              "    </tr>\n",
              "    <tr>\n",
              "      <th>1</th>\n",
              "      <td>Alabama</td>\n",
              "      <td>1992</td>\n",
              "      <td>0</td>\n",
              "      <td>0</td>\n",
              "      <td>0</td>\n",
              "      <td>0</td>\n",
              "      <td>0</td>\n",
              "      <td>0</td>\n",
              "      <td>1</td>\n",
              "      <td>0</td>\n",
              "      <td>...</td>\n",
              "      <td>0</td>\n",
              "      <td>0</td>\n",
              "      <td>0</td>\n",
              "      <td>0</td>\n",
              "      <td>0</td>\n",
              "      <td>0</td>\n",
              "      <td>0</td>\n",
              "      <td>0</td>\n",
              "      <td>1</td>\n",
              "      <td>16</td>\n",
              "    </tr>\n",
              "    <tr>\n",
              "      <th>2</th>\n",
              "      <td>Alabama</td>\n",
              "      <td>1993</td>\n",
              "      <td>0</td>\n",
              "      <td>0</td>\n",
              "      <td>0</td>\n",
              "      <td>0</td>\n",
              "      <td>0</td>\n",
              "      <td>0</td>\n",
              "      <td>1</td>\n",
              "      <td>0</td>\n",
              "      <td>...</td>\n",
              "      <td>0</td>\n",
              "      <td>0</td>\n",
              "      <td>0</td>\n",
              "      <td>0</td>\n",
              "      <td>0</td>\n",
              "      <td>0</td>\n",
              "      <td>0</td>\n",
              "      <td>0</td>\n",
              "      <td>1</td>\n",
              "      <td>16</td>\n",
              "    </tr>\n",
              "    <tr>\n",
              "      <th>3</th>\n",
              "      <td>Alabama</td>\n",
              "      <td>1994</td>\n",
              "      <td>0</td>\n",
              "      <td>0</td>\n",
              "      <td>0</td>\n",
              "      <td>0</td>\n",
              "      <td>0</td>\n",
              "      <td>0</td>\n",
              "      <td>1</td>\n",
              "      <td>0</td>\n",
              "      <td>...</td>\n",
              "      <td>0</td>\n",
              "      <td>0</td>\n",
              "      <td>0</td>\n",
              "      <td>0</td>\n",
              "      <td>0</td>\n",
              "      <td>0</td>\n",
              "      <td>0</td>\n",
              "      <td>0</td>\n",
              "      <td>1</td>\n",
              "      <td>16</td>\n",
              "    </tr>\n",
              "    <tr>\n",
              "      <th>4</th>\n",
              "      <td>Alabama</td>\n",
              "      <td>1995</td>\n",
              "      <td>0</td>\n",
              "      <td>0</td>\n",
              "      <td>0</td>\n",
              "      <td>0</td>\n",
              "      <td>0</td>\n",
              "      <td>0</td>\n",
              "      <td>1</td>\n",
              "      <td>0</td>\n",
              "      <td>...</td>\n",
              "      <td>0</td>\n",
              "      <td>0</td>\n",
              "      <td>0</td>\n",
              "      <td>0</td>\n",
              "      <td>0</td>\n",
              "      <td>0</td>\n",
              "      <td>0</td>\n",
              "      <td>0</td>\n",
              "      <td>1</td>\n",
              "      <td>16</td>\n",
              "    </tr>\n",
              "  </tbody>\n",
              "</table>\n",
              "<p>5 rows × 137 columns</p>\n",
              "</div>\n",
              "      <button class=\"colab-df-convert\" onclick=\"convertToInteractive('df-3cfd8457-7d0f-4081-bba4-f95a8a0f544a')\"\n",
              "              title=\"Convert this dataframe to an interactive table.\"\n",
              "              style=\"display:none;\">\n",
              "        \n",
              "  <svg xmlns=\"http://www.w3.org/2000/svg\" height=\"24px\"viewBox=\"0 0 24 24\"\n",
              "       width=\"24px\">\n",
              "    <path d=\"M0 0h24v24H0V0z\" fill=\"none\"/>\n",
              "    <path d=\"M18.56 5.44l.94 2.06.94-2.06 2.06-.94-2.06-.94-.94-2.06-.94 2.06-2.06.94zm-11 1L8.5 8.5l.94-2.06 2.06-.94-2.06-.94L8.5 2.5l-.94 2.06-2.06.94zm10 10l.94 2.06.94-2.06 2.06-.94-2.06-.94-.94-2.06-.94 2.06-2.06.94z\"/><path d=\"M17.41 7.96l-1.37-1.37c-.4-.4-.92-.59-1.43-.59-.52 0-1.04.2-1.43.59L10.3 9.45l-7.72 7.72c-.78.78-.78 2.05 0 2.83L4 21.41c.39.39.9.59 1.41.59.51 0 1.02-.2 1.41-.59l7.78-7.78 2.81-2.81c.8-.78.8-2.07 0-2.86zM5.41 20L4 18.59l7.72-7.72 1.47 1.35L5.41 20z\"/>\n",
              "  </svg>\n",
              "      </button>\n",
              "      \n",
              "  <style>\n",
              "    .colab-df-container {\n",
              "      display:flex;\n",
              "      flex-wrap:wrap;\n",
              "      gap: 12px;\n",
              "    }\n",
              "\n",
              "    .colab-df-convert {\n",
              "      background-color: #E8F0FE;\n",
              "      border: none;\n",
              "      border-radius: 50%;\n",
              "      cursor: pointer;\n",
              "      display: none;\n",
              "      fill: #1967D2;\n",
              "      height: 32px;\n",
              "      padding: 0 0 0 0;\n",
              "      width: 32px;\n",
              "    }\n",
              "\n",
              "    .colab-df-convert:hover {\n",
              "      background-color: #E2EBFA;\n",
              "      box-shadow: 0px 1px 2px rgba(60, 64, 67, 0.3), 0px 1px 3px 1px rgba(60, 64, 67, 0.15);\n",
              "      fill: #174EA6;\n",
              "    }\n",
              "\n",
              "    [theme=dark] .colab-df-convert {\n",
              "      background-color: #3B4455;\n",
              "      fill: #D2E3FC;\n",
              "    }\n",
              "\n",
              "    [theme=dark] .colab-df-convert:hover {\n",
              "      background-color: #434B5C;\n",
              "      box-shadow: 0px 1px 3px 1px rgba(0, 0, 0, 0.15);\n",
              "      filter: drop-shadow(0px 1px 2px rgba(0, 0, 0, 0.3));\n",
              "      fill: #FFFFFF;\n",
              "    }\n",
              "  </style>\n",
              "\n",
              "      <script>\n",
              "        const buttonEl =\n",
              "          document.querySelector('#df-3cfd8457-7d0f-4081-bba4-f95a8a0f544a button.colab-df-convert');\n",
              "        buttonEl.style.display =\n",
              "          google.colab.kernel.accessAllowed ? 'block' : 'none';\n",
              "\n",
              "        async function convertToInteractive(key) {\n",
              "          const element = document.querySelector('#df-3cfd8457-7d0f-4081-bba4-f95a8a0f544a');\n",
              "          const dataTable =\n",
              "            await google.colab.kernel.invokeFunction('convertToInteractive',\n",
              "                                                     [key], {});\n",
              "          if (!dataTable) return;\n",
              "\n",
              "          const docLinkHtml = 'Like what you see? Visit the ' +\n",
              "            '<a target=\"_blank\" href=https://colab.research.google.com/notebooks/data_table.ipynb>data table notebook</a>'\n",
              "            + ' to learn more about interactive tables.';\n",
              "          element.innerHTML = '';\n",
              "          dataTable['output_type'] = 'display_data';\n",
              "          await google.colab.output.renderOutput(dataTable, element);\n",
              "          const docLink = document.createElement('div');\n",
              "          docLink.innerHTML = docLinkHtml;\n",
              "          element.appendChild(docLink);\n",
              "        }\n",
              "      </script>\n",
              "    </div>\n",
              "  </div>\n",
              "  "
            ]
          },
          "metadata": {},
          "execution_count": 29
        }
      ]
    },
    {
      "cell_type": "markdown",
      "source": [
        "# Data Cleaning"
      ],
      "metadata": {
        "id": "KKXENnMjLFa4"
      }
    },
    {
      "cell_type": "markdown",
      "metadata": {
        "id": "_0FYP_65vmqI"
      },
      "source": [
        "##NCVS"
      ]
    },
    {
      "cell_type": "code",
      "execution_count": 30,
      "metadata": {
        "id": "_R14uBxytXjJ"
      },
      "outputs": [],
      "source": [
        "pcvdf = pd.read_json(\"/content/drive/MyDrive/crime_stats_project/ncvs/ncvs_pcv.json\")\n",
        "ppdf = pd.read_json(\"/content/drive/MyDrive/crime_stats_project/ncvs/ncvs_pp.json\")"
      ]
    },
    {
      "cell_type": "code",
      "execution_count": 31,
      "metadata": {
        "id": "aQfvfFVztmMp"
      },
      "outputs": [],
      "source": [
        "pcvdf2 = pcvdf.drop(pcvdf[pcvdf.columns.difference(['idper','year','newoff','ager','race','sex','hincome1','educatn1','direl','notify','treatment','serious','offenderage','offendersex','offtracenew'])],axis = 1)\n",
        "ppdf2 = ppdf.drop(ppdf[ppdf.columns.difference(['idper','year','ager','race','sex','hincome1','educatn1','citizen'])],axis = 1)"
      ]
    },
    {
      "cell_type": "markdown",
      "metadata": {
        "id": "Nf8ZZ8mshRdk"
      },
      "source": [
        "Dictionaries for Mapping Categorical Variables"
      ]
    },
    {
      "cell_type": "code",
      "execution_count": 32,
      "metadata": {
        "id": "lLlewLlT-mxt"
      },
      "outputs": [],
      "source": [
        "crime_dict =  {1 : 'Sexual_Assault', 2 : 'Robbery', 3: 'Aggravated_Assault', 4 : 'Simple_Assault', 5: 'Larceny'}\n",
        "race_dict = {1 : 'White', 2 : 'Black', 3: 'American_Indian/Alaska_Native', 4 : 'Asian/Native_Hawaiian', 5: 'Mixed'}\n",
        "sex_dict = {1:'Male',2:'Female'}\n",
        "age_dict = {1 : '12-17', 2 : '18-24', 3: '25-34', 4 : '35-49', 5: '50-64', 6: '65 or older'}\n",
        "relation_dict = {1 : 'intimates', 2 : 'other_relatives', 3: 'acquaintances', 4 : 'strangers', 5: 'unknown', 6: 'unknown_num_of_offenders'}\n",
        "offender_age_dict = {1: '11_or_younger',2 : '12-17', 3 : '18-29', 4: '30_or_older', 5 : 'grouo_of_diff_ages', 88: 'Residue'}\n",
        "income_dict = {1 : '< $7500', 2 : '$7500 - $14999', 3: '$15000 - $24999', 4 : '$25000 - $34999',5:'$35000 - $49999',6: '$50000 - $74999', 7: '>= $75000', 88: 'unknown'}\n",
        "edu_dict = {1 : 'No_Schooling', 2 : 'Grade_School', 3: 'Middle_School', 4 : 'High_School', 5: 'College', 88: 'Residue'}\n",
        "reported_dict = {1 : 'Yes', 2 : 'No', 3: 'Unknown', 8 : 'Residue'}\n",
        "treatment_dict = {0:'not_injured', 1 : 'not_treated', 2 : 'treated', 3: 'Unknown', 8 : 'Residue'}\n",
        "injury_dict = {1 : 'no_injury', 2 : 'serious_injury', 3: 'minor_injury', 4 : 'rape_wo_other_injuries', 88: 'Residue'}\n",
        "offender_sex_dict = {1:'Male',2:'Female',3:'Both',4:'Unknown',88:'Residue'}\n",
        "offender_race_dict = {1 : 'White', 2 : 'Black', 3: 'American_Indian/Alaska_Native', 4 : 'Asian/Native_Hawaiian', 5: 'Mixed',6: 'Hispanic',7: 'Unknown',10: 'Mixed_Group',11: 'Unknown_Group',-1:'Invalid_until_2012Q1'}\n"
      ]
    },
    {
      "cell_type": "markdown",
      "metadata": {
        "id": "NDEPEJThhYIi"
      },
      "source": [
        "Mapping category codes to categories"
      ]
    },
    {
      "cell_type": "code",
      "execution_count": 33,
      "metadata": {
        "id": "9EEg66AmhX3q"
      },
      "outputs": [],
      "source": [
        "pcvdf2 = pcvdf2.replace({\"newoff\": crime_dict,'ager':age_dict,'race':race_dict,'sex':sex_dict,'hincome1':income_dict,'educatn1':edu_dict,'notify':reported_dict,'treatment':treatment_dict,'serious':injury_dict,'offenderage':offender_age_dict,'offendersex':offender_sex_dict,'offtracenew':offender_race_dict,'direl':relation_dict})\n",
        "ppdf2 = ppdf2.replace({'race':race_dict,'ager':age_dict,'sex':sex_dict,'hincome1':income_dict,'educatn1':edu_dict})"
      ]
    },
    {
      "cell_type": "markdown",
      "metadata": {
        "id": "9UlZvS92pTlb"
      },
      "source": [
        "Removing Entries with \"Residue\" values"
      ]
    },
    {
      "cell_type": "code",
      "execution_count": 34,
      "metadata": {
        "id": "rfVy1F0Lhi2v"
      },
      "outputs": [],
      "source": [
        "pcvdf_filtered = pcvdf2[(pcvdf2['serious'] != 'Residue') & (pcvdf2['treatment'] !='Residue') & (pcvdf2['notify'] != 'Residue') & (pcvdf2['offendersex']!='Residue') & (pcvdf2['educatn1'] != 'Residue') & (pcvdf2['offenderage'] != 'Residue')]\n",
        "ppdf_filtered = ppdf2[(ppdf2['educatn1'] != 'Residue')]"
      ]
    },
    {
      "cell_type": "markdown",
      "metadata": {
        "id": "sVUQHwhwpYkQ"
      },
      "source": [
        "Renaming Columns"
      ]
    },
    {
      "cell_type": "code",
      "execution_count": 35,
      "metadata": {
        "id": "uSuBpYnHpMH4",
        "colab": {
          "base_uri": "https://localhost:8080/"
        },
        "outputId": "158c81bf-342b-4caf-d73e-28970ad639a7"
      },
      "outputs": [
        {
          "output_type": "stream",
          "name": "stderr",
          "text": [
            "/usr/local/lib/python3.8/dist-packages/pandas/core/frame.py:5039: SettingWithCopyWarning: \n",
            "A value is trying to be set on a copy of a slice from a DataFrame\n",
            "\n",
            "See the caveats in the documentation: https://pandas.pydata.org/pandas-docs/stable/user_guide/indexing.html#returning-a-view-versus-a-copy\n",
            "  return super().rename(\n"
          ]
        }
      ],
      "source": [
        "pcvdf_filtered.rename(columns = {'newoff':'crime','ager':'age','idper':'id','hincome1':'house_income','educatn1':'education_level','notify':'is_reported','treatment':'is_treated','serious':'injury_level','offtracenew':'offender_race','direl':'victim_offender_relation'}, inplace = True)\n",
        "ppdf_filtered.rename(columns = {'idper':'id','ager':'age','hincome1':'house_income','educatn1':'education_level'}, inplace = True)"
      ]
    },
    {
      "cell_type": "code",
      "source": [
        "# saving the cleaned datasets to gdrive\n",
        "pcvdf_filtered.to_csv('pcvdf_clean.csv', index = False)\n",
        "!cp pcvdf_clean.csv \"drive/MyDrive/crime_stats_project/ncvs\"\n",
        "\n",
        "ppdf_filtered.to_csv('ppdf_clean.csv', index = False)\n",
        "!cp ppdf_clean.csv \"drive/MyDrive/crime_stats_project/ncvs\""
      ],
      "metadata": {
        "id": "MxSyx_kXLwtC"
      },
      "execution_count": 38,
      "outputs": []
    },
    {
      "cell_type": "markdown",
      "source": [
        "## NIBRS"
      ],
      "metadata": {
        "id": "uaqSF9T3LqLY"
      }
    },
    {
      "cell_type": "code",
      "source": [
        "# a dataframe to store the results of API data collection\n",
        "df_nibrs = pd.DataFrame.from_dict(offense_count_list)\n",
        "df_nibrs.rename(columns = {'data_year':'year'}, inplace = True)\n",
        "df_nibrs.head()"
      ],
      "metadata": {
        "colab": {
          "base_uri": "https://localhost:8080/",
          "height": 206
        },
        "id": "zU3Ai5s4G1Jw",
        "outputId": "47b21914-1091-49f7-fdeb-3d1ce89af868"
      },
      "execution_count": 39,
      "outputs": [
        {
          "output_type": "execute_result",
          "data": {
            "text/plain": [
              "   count  year         offense state_name state_abbr\n",
              "0     54  2018  animal-cruelty     Hawaii         HI\n",
              "1     58  2019  animal-cruelty     Hawaii         HI\n",
              "2     48  2020  animal-cruelty     Hawaii         HI\n",
              "3     55  2021  animal-cruelty     Hawaii         HI\n",
              "4      1  2013  animal-cruelty   Michigan         MI"
            ],
            "text/html": [
              "\n",
              "  <div id=\"df-ef184306-50d2-4efe-a135-6bfdec9eb302\">\n",
              "    <div class=\"colab-df-container\">\n",
              "      <div>\n",
              "<style scoped>\n",
              "    .dataframe tbody tr th:only-of-type {\n",
              "        vertical-align: middle;\n",
              "    }\n",
              "\n",
              "    .dataframe tbody tr th {\n",
              "        vertical-align: top;\n",
              "    }\n",
              "\n",
              "    .dataframe thead th {\n",
              "        text-align: right;\n",
              "    }\n",
              "</style>\n",
              "<table border=\"1\" class=\"dataframe\">\n",
              "  <thead>\n",
              "    <tr style=\"text-align: right;\">\n",
              "      <th></th>\n",
              "      <th>count</th>\n",
              "      <th>year</th>\n",
              "      <th>offense</th>\n",
              "      <th>state_name</th>\n",
              "      <th>state_abbr</th>\n",
              "    </tr>\n",
              "  </thead>\n",
              "  <tbody>\n",
              "    <tr>\n",
              "      <th>0</th>\n",
              "      <td>54</td>\n",
              "      <td>2018</td>\n",
              "      <td>animal-cruelty</td>\n",
              "      <td>Hawaii</td>\n",
              "      <td>HI</td>\n",
              "    </tr>\n",
              "    <tr>\n",
              "      <th>1</th>\n",
              "      <td>58</td>\n",
              "      <td>2019</td>\n",
              "      <td>animal-cruelty</td>\n",
              "      <td>Hawaii</td>\n",
              "      <td>HI</td>\n",
              "    </tr>\n",
              "    <tr>\n",
              "      <th>2</th>\n",
              "      <td>48</td>\n",
              "      <td>2020</td>\n",
              "      <td>animal-cruelty</td>\n",
              "      <td>Hawaii</td>\n",
              "      <td>HI</td>\n",
              "    </tr>\n",
              "    <tr>\n",
              "      <th>3</th>\n",
              "      <td>55</td>\n",
              "      <td>2021</td>\n",
              "      <td>animal-cruelty</td>\n",
              "      <td>Hawaii</td>\n",
              "      <td>HI</td>\n",
              "    </tr>\n",
              "    <tr>\n",
              "      <th>4</th>\n",
              "      <td>1</td>\n",
              "      <td>2013</td>\n",
              "      <td>animal-cruelty</td>\n",
              "      <td>Michigan</td>\n",
              "      <td>MI</td>\n",
              "    </tr>\n",
              "  </tbody>\n",
              "</table>\n",
              "</div>\n",
              "      <button class=\"colab-df-convert\" onclick=\"convertToInteractive('df-ef184306-50d2-4efe-a135-6bfdec9eb302')\"\n",
              "              title=\"Convert this dataframe to an interactive table.\"\n",
              "              style=\"display:none;\">\n",
              "        \n",
              "  <svg xmlns=\"http://www.w3.org/2000/svg\" height=\"24px\"viewBox=\"0 0 24 24\"\n",
              "       width=\"24px\">\n",
              "    <path d=\"M0 0h24v24H0V0z\" fill=\"none\"/>\n",
              "    <path d=\"M18.56 5.44l.94 2.06.94-2.06 2.06-.94-2.06-.94-.94-2.06-.94 2.06-2.06.94zm-11 1L8.5 8.5l.94-2.06 2.06-.94-2.06-.94L8.5 2.5l-.94 2.06-2.06.94zm10 10l.94 2.06.94-2.06 2.06-.94-2.06-.94-.94-2.06-.94 2.06-2.06.94z\"/><path d=\"M17.41 7.96l-1.37-1.37c-.4-.4-.92-.59-1.43-.59-.52 0-1.04.2-1.43.59L10.3 9.45l-7.72 7.72c-.78.78-.78 2.05 0 2.83L4 21.41c.39.39.9.59 1.41.59.51 0 1.02-.2 1.41-.59l7.78-7.78 2.81-2.81c.8-.78.8-2.07 0-2.86zM5.41 20L4 18.59l7.72-7.72 1.47 1.35L5.41 20z\"/>\n",
              "  </svg>\n",
              "      </button>\n",
              "      \n",
              "  <style>\n",
              "    .colab-df-container {\n",
              "      display:flex;\n",
              "      flex-wrap:wrap;\n",
              "      gap: 12px;\n",
              "    }\n",
              "\n",
              "    .colab-df-convert {\n",
              "      background-color: #E8F0FE;\n",
              "      border: none;\n",
              "      border-radius: 50%;\n",
              "      cursor: pointer;\n",
              "      display: none;\n",
              "      fill: #1967D2;\n",
              "      height: 32px;\n",
              "      padding: 0 0 0 0;\n",
              "      width: 32px;\n",
              "    }\n",
              "\n",
              "    .colab-df-convert:hover {\n",
              "      background-color: #E2EBFA;\n",
              "      box-shadow: 0px 1px 2px rgba(60, 64, 67, 0.3), 0px 1px 3px 1px rgba(60, 64, 67, 0.15);\n",
              "      fill: #174EA6;\n",
              "    }\n",
              "\n",
              "    [theme=dark] .colab-df-convert {\n",
              "      background-color: #3B4455;\n",
              "      fill: #D2E3FC;\n",
              "    }\n",
              "\n",
              "    [theme=dark] .colab-df-convert:hover {\n",
              "      background-color: #434B5C;\n",
              "      box-shadow: 0px 1px 3px 1px rgba(0, 0, 0, 0.15);\n",
              "      filter: drop-shadow(0px 1px 2px rgba(0, 0, 0, 0.3));\n",
              "      fill: #FFFFFF;\n",
              "    }\n",
              "  </style>\n",
              "\n",
              "      <script>\n",
              "        const buttonEl =\n",
              "          document.querySelector('#df-ef184306-50d2-4efe-a135-6bfdec9eb302 button.colab-df-convert');\n",
              "        buttonEl.style.display =\n",
              "          google.colab.kernel.accessAllowed ? 'block' : 'none';\n",
              "\n",
              "        async function convertToInteractive(key) {\n",
              "          const element = document.querySelector('#df-ef184306-50d2-4efe-a135-6bfdec9eb302');\n",
              "          const dataTable =\n",
              "            await google.colab.kernel.invokeFunction('convertToInteractive',\n",
              "                                                     [key], {});\n",
              "          if (!dataTable) return;\n",
              "\n",
              "          const docLinkHtml = 'Like what you see? Visit the ' +\n",
              "            '<a target=\"_blank\" href=https://colab.research.google.com/notebooks/data_table.ipynb>data table notebook</a>'\n",
              "            + ' to learn more about interactive tables.';\n",
              "          element.innerHTML = '';\n",
              "          dataTable['output_type'] = 'display_data';\n",
              "          await google.colab.output.renderOutput(dataTable, element);\n",
              "          const docLink = document.createElement('div');\n",
              "          docLink.innerHTML = docLinkHtml;\n",
              "          element.appendChild(docLink);\n",
              "        }\n",
              "      </script>\n",
              "    </div>\n",
              "  </div>\n",
              "  "
            ]
          },
          "metadata": {},
          "execution_count": 39
        }
      ]
    },
    {
      "cell_type": "code",
      "source": [
        "# summing the offense counts of offenses under the same offense group\n",
        "# for example aggravated-assault, simple-assault, intimidation appear as different entries\n",
        "# but under the same offense type (assault-offenses) so their counts are summed for each state and year combination\n",
        "\n",
        "aggregation_functions = {'count': 'sum', 'year': 'first', 'offense': 'first', 'state_name': 'first', 'state_abbr': 'first'}\n",
        "df_nibrs = df_nibrs.groupby(['year', 'offense', 'state_name','state_abbr'], as_index = False).aggregate(aggregation_functions).reindex(columns=df_nibrs.columns)"
      ],
      "metadata": {
        "id": "OBU6mGlWBrCY"
      },
      "execution_count": 40,
      "outputs": []
    },
    {
      "cell_type": "code",
      "source": [
        "df_nibrs.head()"
      ],
      "metadata": {
        "colab": {
          "base_uri": "https://localhost:8080/",
          "height": 206
        },
        "id": "WeSR5drLDBiS",
        "outputId": "7c99af7c-79ec-4a2b-f8b2-50e58f22e276"
      },
      "execution_count": 41,
      "outputs": [
        {
          "output_type": "execute_result",
          "data": {
            "text/plain": [
              "   count  year           offense      state_name state_abbr\n",
              "0    163  1991             arson         Alabama         AL\n",
              "1    107  1991             arson    North Dakota         ND\n",
              "2   1248  1991             arson  South Carolina         SC\n",
              "3  70130  1991  assault-offenses         Alabama         AL\n",
              "4      9  1991  assault-offenses        Illinois         IL"
            ],
            "text/html": [
              "\n",
              "  <div id=\"df-96acf512-1852-42f2-aa6a-922968e25597\">\n",
              "    <div class=\"colab-df-container\">\n",
              "      <div>\n",
              "<style scoped>\n",
              "    .dataframe tbody tr th:only-of-type {\n",
              "        vertical-align: middle;\n",
              "    }\n",
              "\n",
              "    .dataframe tbody tr th {\n",
              "        vertical-align: top;\n",
              "    }\n",
              "\n",
              "    .dataframe thead th {\n",
              "        text-align: right;\n",
              "    }\n",
              "</style>\n",
              "<table border=\"1\" class=\"dataframe\">\n",
              "  <thead>\n",
              "    <tr style=\"text-align: right;\">\n",
              "      <th></th>\n",
              "      <th>count</th>\n",
              "      <th>year</th>\n",
              "      <th>offense</th>\n",
              "      <th>state_name</th>\n",
              "      <th>state_abbr</th>\n",
              "    </tr>\n",
              "  </thead>\n",
              "  <tbody>\n",
              "    <tr>\n",
              "      <th>0</th>\n",
              "      <td>163</td>\n",
              "      <td>1991</td>\n",
              "      <td>arson</td>\n",
              "      <td>Alabama</td>\n",
              "      <td>AL</td>\n",
              "    </tr>\n",
              "    <tr>\n",
              "      <th>1</th>\n",
              "      <td>107</td>\n",
              "      <td>1991</td>\n",
              "      <td>arson</td>\n",
              "      <td>North Dakota</td>\n",
              "      <td>ND</td>\n",
              "    </tr>\n",
              "    <tr>\n",
              "      <th>2</th>\n",
              "      <td>1248</td>\n",
              "      <td>1991</td>\n",
              "      <td>arson</td>\n",
              "      <td>South Carolina</td>\n",
              "      <td>SC</td>\n",
              "    </tr>\n",
              "    <tr>\n",
              "      <th>3</th>\n",
              "      <td>70130</td>\n",
              "      <td>1991</td>\n",
              "      <td>assault-offenses</td>\n",
              "      <td>Alabama</td>\n",
              "      <td>AL</td>\n",
              "    </tr>\n",
              "    <tr>\n",
              "      <th>4</th>\n",
              "      <td>9</td>\n",
              "      <td>1991</td>\n",
              "      <td>assault-offenses</td>\n",
              "      <td>Illinois</td>\n",
              "      <td>IL</td>\n",
              "    </tr>\n",
              "  </tbody>\n",
              "</table>\n",
              "</div>\n",
              "      <button class=\"colab-df-convert\" onclick=\"convertToInteractive('df-96acf512-1852-42f2-aa6a-922968e25597')\"\n",
              "              title=\"Convert this dataframe to an interactive table.\"\n",
              "              style=\"display:none;\">\n",
              "        \n",
              "  <svg xmlns=\"http://www.w3.org/2000/svg\" height=\"24px\"viewBox=\"0 0 24 24\"\n",
              "       width=\"24px\">\n",
              "    <path d=\"M0 0h24v24H0V0z\" fill=\"none\"/>\n",
              "    <path d=\"M18.56 5.44l.94 2.06.94-2.06 2.06-.94-2.06-.94-.94-2.06-.94 2.06-2.06.94zm-11 1L8.5 8.5l.94-2.06 2.06-.94-2.06-.94L8.5 2.5l-.94 2.06-2.06.94zm10 10l.94 2.06.94-2.06 2.06-.94-2.06-.94-.94-2.06-.94 2.06-2.06.94z\"/><path d=\"M17.41 7.96l-1.37-1.37c-.4-.4-.92-.59-1.43-.59-.52 0-1.04.2-1.43.59L10.3 9.45l-7.72 7.72c-.78.78-.78 2.05 0 2.83L4 21.41c.39.39.9.59 1.41.59.51 0 1.02-.2 1.41-.59l7.78-7.78 2.81-2.81c.8-.78.8-2.07 0-2.86zM5.41 20L4 18.59l7.72-7.72 1.47 1.35L5.41 20z\"/>\n",
              "  </svg>\n",
              "      </button>\n",
              "      \n",
              "  <style>\n",
              "    .colab-df-container {\n",
              "      display:flex;\n",
              "      flex-wrap:wrap;\n",
              "      gap: 12px;\n",
              "    }\n",
              "\n",
              "    .colab-df-convert {\n",
              "      background-color: #E8F0FE;\n",
              "      border: none;\n",
              "      border-radius: 50%;\n",
              "      cursor: pointer;\n",
              "      display: none;\n",
              "      fill: #1967D2;\n",
              "      height: 32px;\n",
              "      padding: 0 0 0 0;\n",
              "      width: 32px;\n",
              "    }\n",
              "\n",
              "    .colab-df-convert:hover {\n",
              "      background-color: #E2EBFA;\n",
              "      box-shadow: 0px 1px 2px rgba(60, 64, 67, 0.3), 0px 1px 3px 1px rgba(60, 64, 67, 0.15);\n",
              "      fill: #174EA6;\n",
              "    }\n",
              "\n",
              "    [theme=dark] .colab-df-convert {\n",
              "      background-color: #3B4455;\n",
              "      fill: #D2E3FC;\n",
              "    }\n",
              "\n",
              "    [theme=dark] .colab-df-convert:hover {\n",
              "      background-color: #434B5C;\n",
              "      box-shadow: 0px 1px 3px 1px rgba(0, 0, 0, 0.15);\n",
              "      filter: drop-shadow(0px 1px 2px rgba(0, 0, 0, 0.3));\n",
              "      fill: #FFFFFF;\n",
              "    }\n",
              "  </style>\n",
              "\n",
              "      <script>\n",
              "        const buttonEl =\n",
              "          document.querySelector('#df-96acf512-1852-42f2-aa6a-922968e25597 button.colab-df-convert');\n",
              "        buttonEl.style.display =\n",
              "          google.colab.kernel.accessAllowed ? 'block' : 'none';\n",
              "\n",
              "        async function convertToInteractive(key) {\n",
              "          const element = document.querySelector('#df-96acf512-1852-42f2-aa6a-922968e25597');\n",
              "          const dataTable =\n",
              "            await google.colab.kernel.invokeFunction('convertToInteractive',\n",
              "                                                     [key], {});\n",
              "          if (!dataTable) return;\n",
              "\n",
              "          const docLinkHtml = 'Like what you see? Visit the ' +\n",
              "            '<a target=\"_blank\" href=https://colab.research.google.com/notebooks/data_table.ipynb>data table notebook</a>'\n",
              "            + ' to learn more about interactive tables.';\n",
              "          element.innerHTML = '';\n",
              "          dataTable['output_type'] = 'display_data';\n",
              "          await google.colab.output.renderOutput(dataTable, element);\n",
              "          const docLink = document.createElement('div');\n",
              "          docLink.innerHTML = docLinkHtml;\n",
              "          element.appendChild(docLink);\n",
              "        }\n",
              "      </script>\n",
              "    </div>\n",
              "  </div>\n",
              "  "
            ]
          },
          "metadata": {},
          "execution_count": 41
        }
      ]
    },
    {
      "cell_type": "code",
      "source": [
        "df_nibrs['offense'].value_counts()"
      ],
      "metadata": {
        "colab": {
          "base_uri": "https://localhost:8080/"
        },
        "id": "Vlt1xfgaidTk",
        "outputId": "f57142dd-dd6d-4697-8453-f6d0400fc852"
      },
      "execution_count": 42,
      "outputs": [
        {
          "output_type": "execute_result",
          "data": {
            "text/plain": [
              "sex-offenses                                904\n",
              "assault-offenses                            904\n",
              "larceny-theft-offenses                      900\n",
              "drug-narcotic-offenses                      894\n",
              "fraud-offenses                              891\n",
              "burglary-breaking-and-entering              890\n",
              "destruction-damage-vandalism-of-property    889\n",
              "counterfeiting-forgery                      885\n",
              "stolen-property-offenses                    884\n",
              "motor-vehicle-theft                         884\n",
              "weapon-law-violation                        883\n",
              "robbery                                     880\n",
              "kidnapping-abduction                        872\n",
              "arson                                       859\n",
              "embezzlement                                853\n",
              "homicide-offenses                           844\n",
              "pornography-obscence-material               834\n",
              "prostitution-offenses                       827\n",
              "extortion-blackmail                         806\n",
              "gambling-offenses                           686\n",
              "bribery                                     669\n",
              "human-trafficking                           239\n",
              "animal-cruelty                              236\n",
              "Name: offense, dtype: int64"
            ]
          },
          "metadata": {},
          "execution_count": 42
        }
      ]
    },
    {
      "cell_type": "code",
      "source": [
        "# rearranging the columns for more clarity\n",
        "cols_nibrs = ['year', 'state_name', 'state_abbr', 'offense', 'count']\n",
        "df_nibrs = df_nibrs[cols_nibrs]\n",
        "# saving the clean data on Gdrive for further access\n",
        "df_nibrs.to_csv('nibrs_offense_count.csv', index = False)\n",
        "!cp nibrs_offense_count.csv \"drive/MyDrive/crime_stats_project/nibrs\""
      ],
      "metadata": {
        "id": "srl9keSdWqFJ"
      },
      "execution_count": 43,
      "outputs": []
    },
    {
      "cell_type": "markdown",
      "metadata": {
        "id": "OLLqiAWMtPiH"
      },
      "source": [
        "##Recidivism data for the state of Georgia"
      ]
    },
    {
      "cell_type": "code",
      "execution_count": 44,
      "metadata": {
        "id": "g6lmcIl8tw7h"
      },
      "outputs": [],
      "source": [
        "njidf = pd.read_json(\"/content/drive/MyDrive/crime_stats_project/nji/nji_georgia.json\")"
      ]
    },
    {
      "cell_type": "markdown",
      "metadata": {
        "id": "cnzHjecJmeTQ"
      },
      "source": [
        "Creating a column name map for clearer column titles"
      ]
    },
    {
      "cell_type": "code",
      "execution_count": 45,
      "metadata": {
        "id": "Sda_nSHmWIUr"
      },
      "outputs": [],
      "source": [
        "rename_dict = {\n",
        "    'supervision_risk_score_first':'first_parole_risk_score',\n",
        "    'supervision_level_first':'first_parole_supervision_level',\n",
        "    'prior_arrest_episodes_felony':'prior_felony_arrests',\n",
        "    'prior_arrest_episodes_misd':'prior_misdemeanor_arrests',\n",
        "    'prior_arrest_episodes_violent':'prior_violent_arrests',\n",
        "    'prior_arrest_episodes_property':'prior_property_arrests',\n",
        "    'prior_arrest_episodes_drug':'prior_drug_arrests',\n",
        "    'prior_arrest_episodes':'prior_parole_violation_arrests',\n",
        "    'prior_arrest_episodes_1':'prior_domestic_violence_arrests',\n",
        "    'prior_arrest_episodes_2':'prior_gun_charges_arrests',\n",
        "    'prior_conviction_episodes': 'prior_felony_convictions',\n",
        "    'prior_conviction_episodes_1': 'prior_misdemeanor_convictions',\n",
        "    'prior_conviction_episodes_2': 'prior_violent_convictions',\n",
        "    'prior_conviction_episodes_3': 'prior_property_convictions',\n",
        "    'prior_conviction_episodes_4': 'prior_drug_convictions',\n",
        "    'prior_conviction_episodes_5': 'prior_parole_violation_convictions',\n",
        "    'prior_conviction_episodes_6': 'prior_domestic_violence_convictions',\n",
        "    'prior_conviction_episodes_7': 'prior_gun_charges_convictions',\n",
        "    'prior_revocations_parole': 'prior_revoked_paroles',\n",
        "    'prior_revocations_parole': 'prior_revoked_probations',\n",
        "    'condition_mh_sa': 'parole_releases_for_mental_health',\n",
        "    'condition_cog_ed': 'parole_releases_for_congitive_skills',\n",
        "    'condition_other': 'parole_releases_other',\n",
        "    'violations': 'parole_violations_monitoring',\n",
        "    'violations_instruction': 'parole_violations_instructions',\n",
        "    'violations_failtoreport': 'parole_violations_fail_to_Report',\n",
        "    'delinquency_reports': 'parole_delinquency_reports',\n",
        "    'program_attendances': 'parole_program_attendances',\n",
        "    'program_unexcusedabsences': 'parole_program_unexcusedabsences',\n",
        "    'residence_changes': 'parole_residence_changes'\n",
        "}"
      ]
    },
    {
      "cell_type": "markdown",
      "metadata": {
        "id": "yXm6jVBsmm_e"
      },
      "source": [
        "Changing Column titles"
      ]
    },
    {
      "cell_type": "code",
      "execution_count": 46,
      "metadata": {
        "id": "oFNwms_EWAWC"
      },
      "outputs": [],
      "source": [
        "njidf.rename(columns = rename_dict, inplace = True)"
      ]
    },
    {
      "cell_type": "markdown",
      "metadata": {
        "id": "LrTmhYuNmxrC"
      },
      "source": [
        "Checking for Null values"
      ]
    },
    {
      "cell_type": "code",
      "execution_count": 47,
      "metadata": {
        "colab": {
          "base_uri": "https://localhost:8080/"
        },
        "id": "4_T92q-hkeCN",
        "outputId": "a3c649fc-8cd4-43ea-f193-19b2bcae7913"
      },
      "outputs": [
        {
          "output_type": "execute_result",
          "data": {
            "text/plain": [
              "id                                         0\n",
              "gender                                     0\n",
              "race                                       0\n",
              "age_at_release                             0\n",
              "residence_puma                             0\n",
              "gang_affiliated                         3167\n",
              "first_parole_risk_score                  475\n",
              "first_parole_supervision_level          1720\n",
              "education_level                            0\n",
              "dependents                                 0\n",
              "prison_offense                          3277\n",
              "prison_years                               0\n",
              "prior_felony_arrests                       0\n",
              "prior_misdemeanor_arrests                  0\n",
              "prior_violent_arrests                      0\n",
              "prior_property_arrests                     0\n",
              "prior_drug_arrests                         0\n",
              "prior_parole_violation_arrests             0\n",
              "prior_domestic_violence_arrests            0\n",
              "prior_gun_charges_arrests                  0\n",
              "prior_felony_convictions                   0\n",
              "prior_misdemeanor_convictions              0\n",
              "prior_violent_convictions                  0\n",
              "prior_property_convictions                 0\n",
              "prior_drug_convictions                     0\n",
              "prior_parole_violation_convictions         0\n",
              "prior_domestic_violence_convictions        0\n",
              "prior_gun_charges_convictions              0\n",
              "prior_revoked_probations                   0\n",
              "prior_revocations_probation                0\n",
              "parole_releases_for_mental_health          0\n",
              "parole_releases_for_congitive_skills       0\n",
              "parole_releases_other                      0\n",
              "parole_violations_monitoring               0\n",
              "parole_violations_instructions             0\n",
              "parole_violations_fail_to_Report           0\n",
              "violations_1                               0\n",
              "parole_delinquency_reports                 0\n",
              "parole_program_attendances                 0\n",
              "parole_program_unexcusedabsences           0\n",
              "parole_residence_changes                   0\n",
              "avg_days_per_drugtest                   6103\n",
              "drugtests_thc_positive                  5172\n",
              "drugtests_cocaine_positive              5172\n",
              "drugtests_meth_positive                 5172\n",
              "drugtests_other_positive                5172\n",
              "percent_days_employed                    462\n",
              "jobs_per_year                            808\n",
              "employment_exempt                          0\n",
              "recidivism_within_3years                   0\n",
              "recidivism_arrest_year1                    0\n",
              "recidivism_arrest_year2                    0\n",
              "recidivism_arrest_year3                    0\n",
              "training_sample                            0\n",
              "dtype: int64"
            ]
          },
          "metadata": {},
          "execution_count": 47
        }
      ],
      "source": [
        "njidf.isnull().sum()"
      ]
    },
    {
      "cell_type": "markdown",
      "metadata": {
        "id": "oi2CF7awm1Fa"
      },
      "source": [
        "The presence of null values in this context is not meaningless.Therefore, We will choose to keep records containing them"
      ]
    },
    {
      "cell_type": "code",
      "source": [
        "# saving the clean data on Gdrive for further access\n",
        "njidf.to_csv('njidf_clean.csv', index = False)\n",
        "!cp njidf_clean.csv \"drive/MyDrive/crime_stats_project/nji\""
      ],
      "metadata": {
        "id": "1GVOE94TNE__"
      },
      "execution_count": 48,
      "outputs": []
    },
    {
      "cell_type": "markdown",
      "source": [
        "## Firearm dataset"
      ],
      "metadata": {
        "id": "R1CZ--_5nnRV"
      }
    },
    {
      "cell_type": "code",
      "source": [
        "# in the firearm dataset there are almost 150 laws for gun regulations\n",
        "# to reduce the number of columns we will replace each law variable with its category and sum all laws applied within each category\n",
        "# using this mechanism we still get to know how much is gun controlled in each state without diving into each law's minor details\n",
        "dealer_regulations = ['dealer', 'dealerh', 'recordsdealer', 'recordsdealerh', 'recordsall', 'recordsallh', 'reportdealer', 'reportdealerh', \\\n",
        "                      'reportall', 'reportallh', 'purge', 'residential', 'theft', 'security', 'inspection', 'liability', 'junkgun']\n",
        "buyer_regulations = ['waiting', 'waitingh', 'permit', 'permith', 'permitlaw', 'fingerprint', 'training', 'registration', 'registrationh', \\\n",
        "                     'defactoreg', 'defactoregh', 'age21handgunsale', 'age18longgunsale', 'age21longgunsaled', 'age21longgunsale', 'loststolen', 'onepermonth']\n",
        "prohibitions_for_highrisk_gun_possession = ['felony', 'violent', 'violenth', 'violentpartial', 'invcommitment', 'invoutpatient', 'danger',\\\n",
        "                                            'drugmisdemeanor', 'alctreatment', 'alcoholism', 'relinquishment']\n",
        "background_checks = ['universal', 'universalh', 'gunshow', 'gunshowh', 'universalpermit', 'universalpermith', 'backgroundpurge', \\\n",
        "                     'threedaylimit', 'mentalhealth', 'statechecks', 'statechecksh']\n",
        "ammunition_regulations = ['ammlicense', 'ammrecords', 'ammpermit', 'ammrestrict', 'amm18', 'amm21h', 'ammbackground']\n",
        "possession_regulations = ['age21handgunpossess', 'age18longgunpossess', 'age21longgunpossess', 'gvro', 'gvrolawenforcement', \\\n",
        "                          'college', 'collegeconcealed', 'elementary', 'opencarryh', 'opencarryl', 'opencarrypermith', 'opencarrypermitl']\n",
        "concealed_carry_permitting = ['permitconcealed', 'mayissue', 'showing', 'ccrevoke', 'ccbackground', 'ccbackgroundnics', 'ccrenewbackground']\n",
        "assault_weapons_and_large_capacity_magazines = ['assault', 'onefeature', 'assaultlist', 'assaultregister', 'assaulttransfer', 'magazine', 'tenroundlimit', 'magazinepreowned']\n",
        "child_access_prevention = ['lockd', 'lockp', 'lockstandards', 'locked', 'capliability', 'capaccess', 'capuses', 'capunloaded', 'cap18', 'cap16', 'cap14']\n",
        "gun_trafficking = ['traffickingbackground', 'traffickingprohibited', 'traffickingprohibitedh', 'strawpurchase', 'strawpurchaseh', 'microstamp', 'personalized']\n",
        "domestic_violence = ['mcdv', 'mcdvdating', 'mcdvsurrender', 'mcdvsurrendernoconditions', 'mcdvsurrenderdating', 'mcdvremovalallowed', 'mcdvremovalrequired', \\\n",
        "                     'incidentremoval', 'incidentall', 'dvro', 'dvrodating', 'exparte', 'expartedating', 'dvrosurrender', 'dvrosurrendernoconditions', \\\n",
        "                     'dvrosurrenderdating', 'expartesurrender', 'expartesurrendernoconditions', 'expartesurrenderdating', 'dvroremoval', 'stalking']\n",
        "preemption = ['preemption','preemptionnarrow','preemptionbroad']\n",
        "immunity = ['immunity']\n",
        "stand_your_ground = ['nosyg']\n",
        "\n",
        "# summing the laws applied within each category and add a column for the category\n",
        "df_firearm['dealer_regulations']= df_firearm[dealer_regulations].sum(axis=1)\n",
        "df_firearm['buyer_regulations']= df_firearm[buyer_regulations].sum(axis=1)\n",
        "df_firearm['prohibitions_for_highrisk_gun_possession']= df_firearm[prohibitions_for_highrisk_gun_possession].sum(axis=1)\n",
        "df_firearm['background_checks']= df_firearm[background_checks].sum(axis=1)\n",
        "df_firearm['ammunition_regulations']= df_firearm[ammunition_regulations].sum(axis=1)\n",
        "df_firearm['possession_regulations']= df_firearm[possession_regulations].sum(axis=1)\n",
        "df_firearm['concealed_carry_permitting']= df_firearm[concealed_carry_permitting].sum(axis=1)\n",
        "df_firearm['assault_weapons_and_large_capacity_magazines']= df_firearm[assault_weapons_and_large_capacity_magazines].sum(axis=1)\n",
        "df_firearm['child_access_prevention']= df_firearm[child_access_prevention].sum(axis=1)\n",
        "df_firearm['gun_trafficking']= df_firearm[gun_trafficking].sum(axis=1)\n",
        "df_firearm['domestic_violence']= df_firearm[domestic_violence].sum(axis=1)\n",
        "df_firearm['preemption']= df_firearm[preemption].sum(axis=1)\n",
        "df_firearm['stand_your_ground']= df_firearm[stand_your_ground].sum(axis=1)\n",
        "\n",
        "# selecting only the columns with the law categories\n",
        "\n",
        "df_firearm = df_firearm[['state','year','dealer_regulations', 'buyer_regulations', 'prohibitions_for_highrisk_gun_possession', 'background_checks',\\\n",
        "                         'ammunition_regulations', 'ammunition_regulations', 'possession_regulations', 'concealed_carry_permitting',\\\n",
        "                         'assault_weapons_and_large_capacity_magazines', 'child_access_prevention', 'gun_trafficking', 'domestic_violence',\\\n",
        "                         'preemption', 'stand_your_ground', 'immunity']]\n",
        "\n",
        "df_firearm.head()"
      ],
      "metadata": {
        "colab": {
          "base_uri": "https://localhost:8080/",
          "height": 270
        },
        "id": "3QCwpILVeVYQ",
        "outputId": "06b46bbc-16c5-44fc-8c2f-e128126df108"
      },
      "execution_count": 49,
      "outputs": [
        {
          "output_type": "execute_result",
          "data": {
            "text/plain": [
              "     state  year  dealer_regulations  buyer_regulations  \\\n",
              "0  Alabama  1991                   7                  1   \n",
              "1  Alabama  1992                   7                  1   \n",
              "2  Alabama  1993                   7                  1   \n",
              "3  Alabama  1994                   7                  1   \n",
              "4  Alabama  1995                   7                  1   \n",
              "\n",
              "   prohibitions_for_highrisk_gun_possession  background_checks  \\\n",
              "0                                         1                  0   \n",
              "1                                         1                  0   \n",
              "2                                         1                  0   \n",
              "3                                         1                  0   \n",
              "4                                         1                  0   \n",
              "\n",
              "   ammunition_regulations  ammunition_regulations  possession_regulations  \\\n",
              "0                       0                       0                       0   \n",
              "1                       0                       0                       0   \n",
              "2                       0                       0                       0   \n",
              "3                       0                       0                       0   \n",
              "4                       0                       0                       0   \n",
              "\n",
              "   concealed_carry_permitting  assault_weapons_and_large_capacity_magazines  \\\n",
              "0                           3                                             0   \n",
              "1                           3                                             0   \n",
              "2                           3                                             0   \n",
              "3                           3                                             0   \n",
              "4                           3                                             0   \n",
              "\n",
              "   child_access_prevention  gun_trafficking  domestic_violence  preemption  \\\n",
              "0                        0                0                  0           1   \n",
              "1                        0                0                  1           1   \n",
              "2                        0                0                  1           1   \n",
              "3                        0                0                  1           1   \n",
              "4                        0                0                  1           1   \n",
              "\n",
              "   stand_your_ground  immunity  \n",
              "0                  1         1  \n",
              "1                  1         1  \n",
              "2                  1         1  \n",
              "3                  1         1  \n",
              "4                  1         1  "
            ],
            "text/html": [
              "\n",
              "  <div id=\"df-33d6bfb1-1f61-41ca-b228-407e3cc1eefb\">\n",
              "    <div class=\"colab-df-container\">\n",
              "      <div>\n",
              "<style scoped>\n",
              "    .dataframe tbody tr th:only-of-type {\n",
              "        vertical-align: middle;\n",
              "    }\n",
              "\n",
              "    .dataframe tbody tr th {\n",
              "        vertical-align: top;\n",
              "    }\n",
              "\n",
              "    .dataframe thead th {\n",
              "        text-align: right;\n",
              "    }\n",
              "</style>\n",
              "<table border=\"1\" class=\"dataframe\">\n",
              "  <thead>\n",
              "    <tr style=\"text-align: right;\">\n",
              "      <th></th>\n",
              "      <th>state</th>\n",
              "      <th>year</th>\n",
              "      <th>dealer_regulations</th>\n",
              "      <th>buyer_regulations</th>\n",
              "      <th>prohibitions_for_highrisk_gun_possession</th>\n",
              "      <th>background_checks</th>\n",
              "      <th>ammunition_regulations</th>\n",
              "      <th>ammunition_regulations</th>\n",
              "      <th>possession_regulations</th>\n",
              "      <th>concealed_carry_permitting</th>\n",
              "      <th>assault_weapons_and_large_capacity_magazines</th>\n",
              "      <th>child_access_prevention</th>\n",
              "      <th>gun_trafficking</th>\n",
              "      <th>domestic_violence</th>\n",
              "      <th>preemption</th>\n",
              "      <th>stand_your_ground</th>\n",
              "      <th>immunity</th>\n",
              "    </tr>\n",
              "  </thead>\n",
              "  <tbody>\n",
              "    <tr>\n",
              "      <th>0</th>\n",
              "      <td>Alabama</td>\n",
              "      <td>1991</td>\n",
              "      <td>7</td>\n",
              "      <td>1</td>\n",
              "      <td>1</td>\n",
              "      <td>0</td>\n",
              "      <td>0</td>\n",
              "      <td>0</td>\n",
              "      <td>0</td>\n",
              "      <td>3</td>\n",
              "      <td>0</td>\n",
              "      <td>0</td>\n",
              "      <td>0</td>\n",
              "      <td>0</td>\n",
              "      <td>1</td>\n",
              "      <td>1</td>\n",
              "      <td>1</td>\n",
              "    </tr>\n",
              "    <tr>\n",
              "      <th>1</th>\n",
              "      <td>Alabama</td>\n",
              "      <td>1992</td>\n",
              "      <td>7</td>\n",
              "      <td>1</td>\n",
              "      <td>1</td>\n",
              "      <td>0</td>\n",
              "      <td>0</td>\n",
              "      <td>0</td>\n",
              "      <td>0</td>\n",
              "      <td>3</td>\n",
              "      <td>0</td>\n",
              "      <td>0</td>\n",
              "      <td>0</td>\n",
              "      <td>1</td>\n",
              "      <td>1</td>\n",
              "      <td>1</td>\n",
              "      <td>1</td>\n",
              "    </tr>\n",
              "    <tr>\n",
              "      <th>2</th>\n",
              "      <td>Alabama</td>\n",
              "      <td>1993</td>\n",
              "      <td>7</td>\n",
              "      <td>1</td>\n",
              "      <td>1</td>\n",
              "      <td>0</td>\n",
              "      <td>0</td>\n",
              "      <td>0</td>\n",
              "      <td>0</td>\n",
              "      <td>3</td>\n",
              "      <td>0</td>\n",
              "      <td>0</td>\n",
              "      <td>0</td>\n",
              "      <td>1</td>\n",
              "      <td>1</td>\n",
              "      <td>1</td>\n",
              "      <td>1</td>\n",
              "    </tr>\n",
              "    <tr>\n",
              "      <th>3</th>\n",
              "      <td>Alabama</td>\n",
              "      <td>1994</td>\n",
              "      <td>7</td>\n",
              "      <td>1</td>\n",
              "      <td>1</td>\n",
              "      <td>0</td>\n",
              "      <td>0</td>\n",
              "      <td>0</td>\n",
              "      <td>0</td>\n",
              "      <td>3</td>\n",
              "      <td>0</td>\n",
              "      <td>0</td>\n",
              "      <td>0</td>\n",
              "      <td>1</td>\n",
              "      <td>1</td>\n",
              "      <td>1</td>\n",
              "      <td>1</td>\n",
              "    </tr>\n",
              "    <tr>\n",
              "      <th>4</th>\n",
              "      <td>Alabama</td>\n",
              "      <td>1995</td>\n",
              "      <td>7</td>\n",
              "      <td>1</td>\n",
              "      <td>1</td>\n",
              "      <td>0</td>\n",
              "      <td>0</td>\n",
              "      <td>0</td>\n",
              "      <td>0</td>\n",
              "      <td>3</td>\n",
              "      <td>0</td>\n",
              "      <td>0</td>\n",
              "      <td>0</td>\n",
              "      <td>1</td>\n",
              "      <td>1</td>\n",
              "      <td>1</td>\n",
              "      <td>1</td>\n",
              "    </tr>\n",
              "  </tbody>\n",
              "</table>\n",
              "</div>\n",
              "      <button class=\"colab-df-convert\" onclick=\"convertToInteractive('df-33d6bfb1-1f61-41ca-b228-407e3cc1eefb')\"\n",
              "              title=\"Convert this dataframe to an interactive table.\"\n",
              "              style=\"display:none;\">\n",
              "        \n",
              "  <svg xmlns=\"http://www.w3.org/2000/svg\" height=\"24px\"viewBox=\"0 0 24 24\"\n",
              "       width=\"24px\">\n",
              "    <path d=\"M0 0h24v24H0V0z\" fill=\"none\"/>\n",
              "    <path d=\"M18.56 5.44l.94 2.06.94-2.06 2.06-.94-2.06-.94-.94-2.06-.94 2.06-2.06.94zm-11 1L8.5 8.5l.94-2.06 2.06-.94-2.06-.94L8.5 2.5l-.94 2.06-2.06.94zm10 10l.94 2.06.94-2.06 2.06-.94-2.06-.94-.94-2.06-.94 2.06-2.06.94z\"/><path d=\"M17.41 7.96l-1.37-1.37c-.4-.4-.92-.59-1.43-.59-.52 0-1.04.2-1.43.59L10.3 9.45l-7.72 7.72c-.78.78-.78 2.05 0 2.83L4 21.41c.39.39.9.59 1.41.59.51 0 1.02-.2 1.41-.59l7.78-7.78 2.81-2.81c.8-.78.8-2.07 0-2.86zM5.41 20L4 18.59l7.72-7.72 1.47 1.35L5.41 20z\"/>\n",
              "  </svg>\n",
              "      </button>\n",
              "      \n",
              "  <style>\n",
              "    .colab-df-container {\n",
              "      display:flex;\n",
              "      flex-wrap:wrap;\n",
              "      gap: 12px;\n",
              "    }\n",
              "\n",
              "    .colab-df-convert {\n",
              "      background-color: #E8F0FE;\n",
              "      border: none;\n",
              "      border-radius: 50%;\n",
              "      cursor: pointer;\n",
              "      display: none;\n",
              "      fill: #1967D2;\n",
              "      height: 32px;\n",
              "      padding: 0 0 0 0;\n",
              "      width: 32px;\n",
              "    }\n",
              "\n",
              "    .colab-df-convert:hover {\n",
              "      background-color: #E2EBFA;\n",
              "      box-shadow: 0px 1px 2px rgba(60, 64, 67, 0.3), 0px 1px 3px 1px rgba(60, 64, 67, 0.15);\n",
              "      fill: #174EA6;\n",
              "    }\n",
              "\n",
              "    [theme=dark] .colab-df-convert {\n",
              "      background-color: #3B4455;\n",
              "      fill: #D2E3FC;\n",
              "    }\n",
              "\n",
              "    [theme=dark] .colab-df-convert:hover {\n",
              "      background-color: #434B5C;\n",
              "      box-shadow: 0px 1px 3px 1px rgba(0, 0, 0, 0.15);\n",
              "      filter: drop-shadow(0px 1px 2px rgba(0, 0, 0, 0.3));\n",
              "      fill: #FFFFFF;\n",
              "    }\n",
              "  </style>\n",
              "\n",
              "      <script>\n",
              "        const buttonEl =\n",
              "          document.querySelector('#df-33d6bfb1-1f61-41ca-b228-407e3cc1eefb button.colab-df-convert');\n",
              "        buttonEl.style.display =\n",
              "          google.colab.kernel.accessAllowed ? 'block' : 'none';\n",
              "\n",
              "        async function convertToInteractive(key) {\n",
              "          const element = document.querySelector('#df-33d6bfb1-1f61-41ca-b228-407e3cc1eefb');\n",
              "          const dataTable =\n",
              "            await google.colab.kernel.invokeFunction('convertToInteractive',\n",
              "                                                     [key], {});\n",
              "          if (!dataTable) return;\n",
              "\n",
              "          const docLinkHtml = 'Like what you see? Visit the ' +\n",
              "            '<a target=\"_blank\" href=https://colab.research.google.com/notebooks/data_table.ipynb>data table notebook</a>'\n",
              "            + ' to learn more about interactive tables.';\n",
              "          element.innerHTML = '';\n",
              "          dataTable['output_type'] = 'display_data';\n",
              "          await google.colab.output.renderOutput(dataTable, element);\n",
              "          const docLink = document.createElement('div');\n",
              "          docLink.innerHTML = docLinkHtml;\n",
              "          element.appendChild(docLink);\n",
              "        }\n",
              "      </script>\n",
              "    </div>\n",
              "  </div>\n",
              "  "
            ]
          },
          "metadata": {},
          "execution_count": 49
        }
      ]
    },
    {
      "cell_type": "code",
      "source": [
        "# saving the cleaned dataset to gdrive\n",
        "df_firearm.to_csv('firearm_laws.csv', index = False)\n",
        "!cp firearm_laws.csv \"drive/MyDrive/crime_stats_project/firearm\""
      ],
      "metadata": {
        "id": "UPdneILunruN"
      },
      "execution_count": 50,
      "outputs": []
    }
  ]
}